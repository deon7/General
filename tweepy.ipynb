{
 "cells": [
  {
   "cell_type": "markdown",
   "metadata": {},
   "source": [
    "# Bot Skeleton"
   ]
  },
  {
   "cell_type": "markdown",
   "metadata": {},
   "source": [
    "The next cell will authenticate your bot based on your keys and tokens. See the [Tweepy tutorial](https://github.com/comp-journalism/UMD-J479V-J779V-Spring2016/blob/master/Weekly/Week_5/Tweepy-skeleton.ipynb) for more details. "
   ]
  },
  {
   "cell_type": "code",
   "execution_count": 117,
   "metadata": {
    "collapsed": false
   },
   "outputs": [
    {
     "name": "stdout",
     "output_type": "stream",
     "text": [
      "weepybot7\n"
     ]
    }
   ],
   "source": [
    "import tweepy\n",
    "\n",
    "#Setup and authenticate Tweepy\n",
    "CONSUMER_KEY = \"3TBWGvETuD0tPOeGpuRPilS3w\"\n",
    "CONSUMER_SECRET = \"D29UleavU5I8vHbr5QIef07QZbowoe0cQXTLafZh2IBzsKWlWt\"\n",
    "ACCESS_TOKEN = \"710719463256158208-V5nrhimCswte3we5Z0lKyazqYUaNaXr\"\n",
    "ACCESS_TOKEN_SECRET = \"wLnhHQCXYg47FLk8VbGJCcTOFjb3vVzTbu59mRan5mRA2\"\n",
    "\n",
    "auth = tweepy.OAuthHandler(CONSUMER_KEY, CONSUMER_SECRET)\n",
    "auth.set_access_token(ACCESS_TOKEN, ACCESS_TOKEN_SECRET)\n",
    "api = tweepy.API(auth)\n",
    "\n",
    "me = api.me()\n",
    "print me.screen_name"
   ]
  },
  {
   "cell_type": "markdown",
   "metadata": {},
   "source": [
    "The next cell has a number of essential functions that allow your bot to listen to the twitter stream and then respond. The assignment involves fleshing out the editorial logic of the bot and writing code in the sections marked \"TODO\"."
   ]
  },
  {
   "cell_type": "code",
   "execution_count": 118,
   "metadata": {
    "collapsed": false
   },
   "outputs": [],
   "source": [
    "import random\n",
    "import json\n",
    "import time\n",
    "\n",
    "# If debug_mode is True then the bot won't actually tweet. Set debug_mode = False for it to tweet. \n",
    "debug_mode = False\n",
    "\n",
    "# Functions that allow the bot to tweet or reply to tweets\n",
    "def tweet(status):\n",
    "    print \"JUST TWEETED: \", status\n",
    "    # Only *actually* send the tweet on twitter if we're not in debug mode\n",
    "    if debug_mode == False:\n",
    "        api.update_status(status)\n",
    "        \n",
    "#def tweet_with_probability(status, probability):\n",
    "    # Change the probability of tweeting variable to affect how often the bot tweets\n",
    "    #rand = random.random()\n",
    "    #if rand <= probability:\n",
    "     #   print \"JUST TWEETED: \", status\n",
    "        # Only *actually* send the tweet on twitter if we're not in debug mode\n",
    "    #if debug_mode == False:\n",
    "     #       api.update_status(status)\n",
    "        \n",
    "#def tweet_reply(status, tweet_to_reply_to):\n",
    " #   screen_name = tweet_to_reply_to[\"user\"][\"screen_name\"]\n",
    "    #at = \".@\"+screen_name\n",
    "    #reply_to_id = tweet_to_reply_to[\"id\"]\n",
    "    #status = at + \" \" + status\n",
    "    #print \"JUST TWEETED: \", status\n",
    "    # To actually have the bot tweet a status message uncomment the next line, it will send the tweet in response to the appropriate tweet. NOTE: be careful about spamming other people by reply to them. \n",
    "    # Only *actually* send the tweet on twitter if we're not in debug mode\n",
    "    #if debug_mode == False:\n",
    "     #   api.update_status(status=status, in_reply_to_status_id=reply_to_id)\n",
    "    \n",
    "# We derive a class that is used to listen to the twitter stream\n",
    "class TwitterStreamListener(tweepy.StreamListener):\n",
    "    def __init__(self):\n",
    "        super(TwitterStreamListener, self).__init__()\n",
    "        self.num_tweets = 0 \n",
    "        self.api_count = 0\n",
    "        self.old_time = time.time()\n",
    "    \n",
    "    # Everytime the listener encounters a tweet that matches its filters it will trigger the on_data function\n",
    "    def on_data(self, data):\n",
    "        try:\n",
    "            print \"tweet found\"\n",
    "            # Increment out counter of tweets\n",
    "            self.num_tweets = self.num_tweets + 1\n",
    "            \n",
    "            # The data variable represents the tweet that was detected by the stream listener\n",
    "            # Here we just parse it as JSON and put it in another variable. \n",
    "            tweet_data = json.loads(data)\n",
    "            \n",
    "            tweet_id = tweet_data.id\n",
    "            \n",
    "            api.retweet(tweet_id)\n",
    "            print (\"Just retweeted!\")\n",
    "            \n",
    "            # Make sure the bot never interacts with itself\n",
    "            user = tweet_data[\"user\"][\"screen_name\"]\n",
    "            user_mentions = tweet_data['entities']['user_mentions']\n",
    "            user_mentions_list = []\n",
    "            for u in user_mentions:\n",
    "                user_mentions_list.append(u[\"screen_name\"])\n",
    "            if user == me.screen_name or me.screen_name in user_mentions_list:\n",
    "                # return without doing anything\n",
    "                return\n",
    "            \n",
    "            # TODO: Add your editorial logic here, some example filters are below\n",
    "            \n",
    "            # Possible filters\n",
    "            # Maybe you don't want to respond to someone's RT\n",
    "            if tweet_data[\"retweeted\"] == True:\n",
    "                return \n",
    "            \n",
    "            # Maybe you don't want to respond to a tweet without a URL\n",
    "            if len(tweet_data[\"entities\"][\"urls\"]) == 0:\n",
    "                return\n",
    "            \n",
    "            # Maybe you only want to do something with every Nth tweet since otherwise the bot is tweeting too frequently\n",
    "            # e.g. Don't do anything unless this is the 5th tweet you've encountered\n",
    "            if self.num_tweets == 1:\n",
    "                print \"5\"\n",
    "                self.bot_action(tweet_data)\n",
    "            \n",
    "        except Exception as e:\n",
    "            print \"exception: \" + e\n",
    "            pass\n",
    "        \n",
    "        return True\n",
    "    \n",
    "    def api_limit_checker(self):\n",
    "        # API limits are reset every 15 minutes (900 seconds). This checks if we are outside a 15 min window \n",
    "        if time.time() - self.old_time > 900: \n",
    "            # Reset the timer of window since new window started & Twitter limits refreshed\n",
    "            self.old_time = time.time()\n",
    "            #Reset the api counter to 0 since new window started & Twitter limits refreshed\n",
    "            self.api_count = 0\n",
    "        else:\n",
    "            # The bot cannot tweet more than 140 times every 15 minutes (and you should REALLY consider not ever getting close to that as you may trigger Twitters spam detectors)\n",
    "            # The threshold below is set much more conservatively. It will only let you tweet 5 times in a 15 minute window\n",
    "            if self.api_count > 5:\n",
    "                print \"Taking a break\"\n",
    "                # We put the code to sleep for 15-x minutes where x is the current time - old time (when the window started)... So if within 6 minutes we tweet more than 140 times, then the script will halt for the next 15-6=9 minutes until a new window starts\n",
    "                time.sleep(900 - (time.time() - self.old_time))\n",
    "                # Since we have slept through the remainder, a new window has started and we reset the API Count as well\n",
    "                self.api_count = 0\n",
    "                #Similarly as above, we reset the timer as well since new window has started \n",
    "                self.old_time = time.time()\n",
    "                \n",
    "    def bot_action(self, tweet_data):\n",
    "        print \"bot action\"\n",
    "        # NOTE: if you'd like your bot to reply, user the tweet_data variable above as the tweet_to_reply_to parameter for this function\n",
    "        # invoke the API limit checker code, whcih will put bot to sleep if it's too active\n",
    "        self.api_limit_checker()\n",
    "        \n",
    "        # reset the num_tweets counter\n",
    "        self.num_tweets = 0\n",
    "        \n",
    "        # Actually tweet something, just a dummy output right now\n",
    "        # TODO: Write code that constructs a text to tweet\n",
    "        tweet(\"Don't be sad here's a cookie for you\")\n",
    "        \n",
    "        \n",
    "        # Increment API count\n",
    "        self.api_count = self.api_count + 1\n",
    "        \n",
    "        return \n",
    "    \n",
    "    def on_error(self, status):\n",
    "        print status\n",
    "\n",
    "\n",
    "def listen():\n",
    "    print \"listening\"\n",
    "    listener = TwitterStreamListener()\n",
    "    stream = tweepy.Stream(auth, listener)\n",
    "    # track_object filters the twitter stream to capture data, can provide a hashtag, word, or screenname amongths other things. See documentation at: https://dev.twitter.com/streaming/overview/request-parameters\n",
    "    # Currently set to track all tweets mentioning nytimes.com\n",
    "    # TODO: update track_object based on what you want your bot to listen for\n",
    "    track_object = [\"feeling sad\"]\n",
    "    \n",
    "    try:\n",
    "        # Start filtering the twitter stream\n",
    "        stream.filter(track=track_object)\n",
    "        print \"tried\"\n",
    "    except:\n",
    "        # do nothing in the event of an error\n",
    "        pass\n",
    "    return"
   ]
  },
  {
   "cell_type": "markdown",
   "metadata": {},
   "source": [
    "The next cell will actually run the bot and set it to listen to Twitter."
   ]
  },
  {
   "cell_type": "code",
   "execution_count": 119,
   "metadata": {
    "collapsed": false
   },
   "outputs": [
    {
     "name": "stdout",
     "output_type": "stream",
     "text": [
      "listening\n",
      "tweet found\n"
     ]
    }
   ],
   "source": [
    "listen()"
   ]
  },
  {
   "cell_type": "code",
   "execution_count": null,
   "metadata": {
    "collapsed": true
   },
   "outputs": [],
   "source": []
  }
 ],
 "metadata": {
  "kernelspec": {
   "display_name": "Python 2",
   "language": "python",
   "name": "python2"
  },
  "language_info": {
   "codemirror_mode": {
    "name": "ipython",
    "version": 2
   },
   "file_extension": ".py",
   "mimetype": "text/x-python",
   "name": "python",
   "nbconvert_exporter": "python",
   "pygments_lexer": "ipython2",
   "version": "2.7.10"
  }
 },
 "nbformat": 4,
 "nbformat_minor": 0
}
